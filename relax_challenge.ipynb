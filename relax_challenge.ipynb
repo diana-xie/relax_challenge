{
 "cells": [
  {
   "cell_type": "code",
   "execution_count": 1,
   "metadata": {},
   "outputs": [],
   "source": [
    "import pandas as pd\n",
    "import numpy as np\n",
    "from datetime import datetime\n",
    "from datetime import timedelta\n",
    "\n",
    "import seaborn as sns\n",
    "import matplotlib.pyplot as plt\n",
    "import matplotlib as mpl \n",
    "%matplotlib inline\n",
    "mpl.rcParams['patch.force_edgecolor'] = True\n",
    "sns.set()"
   ]
  },
  {
   "cell_type": "markdown",
   "metadata": {},
   "source": [
    "# 1. Wrangle data"
   ]
  },
  {
   "cell_type": "markdown",
   "metadata": {},
   "source": [
    "## 1.1 Import & process data"
   ]
  },
  {
   "cell_type": "markdown",
   "metadata": {},
   "source": [
    "Note: For simplicity, we remove hour/min/sec info, since \"adopted\" user is based on days."
   ]
  },
  {
   "cell_type": "code",
   "execution_count": 231,
   "metadata": {},
   "outputs": [
    {
     "name": "stdout",
     "output_type": "stream",
     "text": [
      "Rows, columns:  (207917, 3)\n",
      "Earliest time_stamp:  2012-05-31 00:00:00\n",
      "Latest time_stamp:  2014-06-06 00:00:00 \n",
      "\n"
     ]
    },
    {
     "data": {
      "text/html": [
       "<div>\n",
       "<style scoped>\n",
       "    .dataframe tbody tr th:only-of-type {\n",
       "        vertical-align: middle;\n",
       "    }\n",
       "\n",
       "    .dataframe tbody tr th {\n",
       "        vertical-align: top;\n",
       "    }\n",
       "\n",
       "    .dataframe thead th {\n",
       "        text-align: right;\n",
       "    }\n",
       "</style>\n",
       "<table border=\"1\" class=\"dataframe\">\n",
       "  <thead>\n",
       "    <tr style=\"text-align: right;\">\n",
       "      <th></th>\n",
       "      <th>time_stamp</th>\n",
       "      <th>user_id</th>\n",
       "      <th>visited</th>\n",
       "    </tr>\n",
       "  </thead>\n",
       "  <tbody>\n",
       "    <tr>\n",
       "      <th>0</th>\n",
       "      <td>2014-04-22</td>\n",
       "      <td>1</td>\n",
       "      <td>1</td>\n",
       "    </tr>\n",
       "    <tr>\n",
       "      <th>1</th>\n",
       "      <td>2013-11-15</td>\n",
       "      <td>2</td>\n",
       "      <td>1</td>\n",
       "    </tr>\n",
       "    <tr>\n",
       "      <th>2</th>\n",
       "      <td>2013-11-29</td>\n",
       "      <td>2</td>\n",
       "      <td>1</td>\n",
       "    </tr>\n",
       "    <tr>\n",
       "      <th>3</th>\n",
       "      <td>2013-12-09</td>\n",
       "      <td>2</td>\n",
       "      <td>1</td>\n",
       "    </tr>\n",
       "    <tr>\n",
       "      <th>4</th>\n",
       "      <td>2013-12-25</td>\n",
       "      <td>2</td>\n",
       "      <td>1</td>\n",
       "    </tr>\n",
       "  </tbody>\n",
       "</table>\n",
       "</div>"
      ],
      "text/plain": [
       "  time_stamp  user_id  visited\n",
       "0 2014-04-22        1        1\n",
       "1 2013-11-15        2        1\n",
       "2 2013-11-29        2        1\n",
       "3 2013-12-09        2        1\n",
       "4 2013-12-25        2        1"
      ]
     },
     "execution_count": 231,
     "metadata": {},
     "output_type": "execute_result"
    }
   ],
   "source": [
    "# Import\n",
    "df_engage = pd.read_csv('takehome_user_engagement.csv')\n",
    "\n",
    "# Convert dates to datetime objs\n",
    "df_engage['time_stamp'] = list(map(lambda x: datetime.strptime(x.split()[0],'%Y-%m-%d'), df_engage['time_stamp'])) # also removes hour, min, sec\n",
    "\n",
    "print(\"Rows, columns: \", df_engage.shape)\n",
    "print(\"Earliest time_stamp: \", df_engage['time_stamp'].min())\n",
    "print(\"Latest time_stamp: \", df_engage['time_stamp'].max(), '\\n')\n",
    "df_engage.head()"
   ]
  },
  {
   "cell_type": "code",
   "execution_count": 208,
   "metadata": {
    "scrolled": true
   },
   "outputs": [
    {
     "name": "stdout",
     "output_type": "stream",
     "text": [
      "Rows, columns:  (12000, 10)\n",
      "Earliest creation_time:  2012-05-31 00:00:00\n",
      "Latest creation_time:  2014-05-30 00:00:00\n"
     ]
    },
    {
     "data": {
      "text/html": [
       "<div>\n",
       "<style scoped>\n",
       "    .dataframe tbody tr th:only-of-type {\n",
       "        vertical-align: middle;\n",
       "    }\n",
       "\n",
       "    .dataframe tbody tr th {\n",
       "        vertical-align: top;\n",
       "    }\n",
       "\n",
       "    .dataframe thead th {\n",
       "        text-align: right;\n",
       "    }\n",
       "</style>\n",
       "<table border=\"1\" class=\"dataframe\">\n",
       "  <thead>\n",
       "    <tr style=\"text-align: right;\">\n",
       "      <th></th>\n",
       "      <th>object_id</th>\n",
       "      <th>creation_time</th>\n",
       "      <th>name</th>\n",
       "      <th>email</th>\n",
       "      <th>creation_source</th>\n",
       "      <th>last_session_creation_time</th>\n",
       "      <th>opted_in_to_mailing_list</th>\n",
       "      <th>enabled_for_marketing_drip</th>\n",
       "      <th>org_id</th>\n",
       "      <th>invited_by_user_id</th>\n",
       "    </tr>\n",
       "  </thead>\n",
       "  <tbody>\n",
       "    <tr>\n",
       "      <th>0</th>\n",
       "      <td>1</td>\n",
       "      <td>2014-04-22</td>\n",
       "      <td>Clausen August</td>\n",
       "      <td>AugustCClausen@yahoo.com</td>\n",
       "      <td>GUEST_INVITE</td>\n",
       "      <td>1.398139e+09</td>\n",
       "      <td>1</td>\n",
       "      <td>0</td>\n",
       "      <td>11</td>\n",
       "      <td>10803.0</td>\n",
       "    </tr>\n",
       "    <tr>\n",
       "      <th>1</th>\n",
       "      <td>2</td>\n",
       "      <td>2013-11-15</td>\n",
       "      <td>Poole Matthew</td>\n",
       "      <td>MatthewPoole@gustr.com</td>\n",
       "      <td>ORG_INVITE</td>\n",
       "      <td>1.396238e+09</td>\n",
       "      <td>0</td>\n",
       "      <td>0</td>\n",
       "      <td>1</td>\n",
       "      <td>316.0</td>\n",
       "    </tr>\n",
       "    <tr>\n",
       "      <th>2</th>\n",
       "      <td>3</td>\n",
       "      <td>2013-03-19</td>\n",
       "      <td>Bottrill Mitchell</td>\n",
       "      <td>MitchellBottrill@gustr.com</td>\n",
       "      <td>ORG_INVITE</td>\n",
       "      <td>1.363735e+09</td>\n",
       "      <td>0</td>\n",
       "      <td>0</td>\n",
       "      <td>94</td>\n",
       "      <td>1525.0</td>\n",
       "    </tr>\n",
       "    <tr>\n",
       "      <th>3</th>\n",
       "      <td>4</td>\n",
       "      <td>2013-05-21</td>\n",
       "      <td>Clausen Nicklas</td>\n",
       "      <td>NicklasSClausen@yahoo.com</td>\n",
       "      <td>GUEST_INVITE</td>\n",
       "      <td>1.369210e+09</td>\n",
       "      <td>0</td>\n",
       "      <td>0</td>\n",
       "      <td>1</td>\n",
       "      <td>5151.0</td>\n",
       "    </tr>\n",
       "    <tr>\n",
       "      <th>4</th>\n",
       "      <td>5</td>\n",
       "      <td>2013-01-17</td>\n",
       "      <td>Raw Grace</td>\n",
       "      <td>GraceRaw@yahoo.com</td>\n",
       "      <td>GUEST_INVITE</td>\n",
       "      <td>1.358850e+09</td>\n",
       "      <td>0</td>\n",
       "      <td>0</td>\n",
       "      <td>193</td>\n",
       "      <td>5240.0</td>\n",
       "    </tr>\n",
       "  </tbody>\n",
       "</table>\n",
       "</div>"
      ],
      "text/plain": [
       "   object_id creation_time               name                       email  \\\n",
       "0          1    2014-04-22     Clausen August    AugustCClausen@yahoo.com   \n",
       "1          2    2013-11-15      Poole Matthew      MatthewPoole@gustr.com   \n",
       "2          3    2013-03-19  Bottrill Mitchell  MitchellBottrill@gustr.com   \n",
       "3          4    2013-05-21    Clausen Nicklas   NicklasSClausen@yahoo.com   \n",
       "4          5    2013-01-17          Raw Grace          GraceRaw@yahoo.com   \n",
       "\n",
       "  creation_source  last_session_creation_time  opted_in_to_mailing_list  \\\n",
       "0    GUEST_INVITE                1.398139e+09                         1   \n",
       "1      ORG_INVITE                1.396238e+09                         0   \n",
       "2      ORG_INVITE                1.363735e+09                         0   \n",
       "3    GUEST_INVITE                1.369210e+09                         0   \n",
       "4    GUEST_INVITE                1.358850e+09                         0   \n",
       "\n",
       "   enabled_for_marketing_drip  org_id  invited_by_user_id  \n",
       "0                           0      11             10803.0  \n",
       "1                           0       1               316.0  \n",
       "2                           0      94              1525.0  \n",
       "3                           0       1              5151.0  \n",
       "4                           0     193              5240.0  "
      ]
     },
     "execution_count": 208,
     "metadata": {},
     "output_type": "execute_result"
    }
   ],
   "source": [
    "# Import\n",
    "df_users = pd.read_csv('takehome_users.csv',  encoding='latin-1')\n",
    "\n",
    "# Convert dates to datetime objs\n",
    "df_users['creation_time'] = list(map(lambda x: datetime.strptime(x.split()[0],'%Y-%m-%d'), df_users['creation_time'])) # also removes hour, min, sec\n",
    "\n",
    "print(\"Rows, columns: \", df_users.shape)\n",
    "print(\"Earliest creation_time: \", df_users['creation_time'].min())\n",
    "print(\"Latest creation_time: \", df_users['creation_time'].max())\n",
    "df_users.head()"
   ]
  },
  {
   "cell_type": "markdown",
   "metadata": {},
   "source": [
    "#### Check number of users"
   ]
  },
  {
   "cell_type": "code",
   "execution_count": 209,
   "metadata": {},
   "outputs": [
    {
     "name": "stdout",
     "output_type": "stream",
     "text": [
      "Number of unique user id's:  12000\n",
      "Number of unique user names:  11355\n",
      "Number of unique emails:  11980\n"
     ]
    }
   ],
   "source": [
    "print(\"Number of unique user id's: \", len(df_users['object_id'].unique()))\n",
    "print(\"Number of unique user names: \", len(df_users['name'].unique()))\n",
    "print(\"Number of unique emails: \", len(df_users['email'].unique()))"
   ]
  },
  {
   "cell_type": "markdown",
   "metadata": {},
   "source": [
    "#### Check distribution of logins"
   ]
  },
  {
   "cell_type": "code",
   "execution_count": 210,
   "metadata": {},
   "outputs": [
    {
     "data": {
      "image/png": "[encoded data removed]",
      "text/plain": [
       "<matplotlib.figure.Figure at 0x1073d570>"
      ]
     },
     "metadata": {},
     "output_type": "display_data"
    }
   ],
   "source": [
    "plt.figure(figsize=(17,5));\n",
    "plt.hist(df_engage.groupby('user_id').size());\n",
    "plt.title('Login frequency');\n",
    "plt.xlabel('Number of logins');\n",
    "plt.ylabel('Number of users');"
   ]
  },
  {
   "cell_type": "markdown",
   "metadata": {},
   "source": [
    "### Observations\n",
    "- There are 12000 unique users. However, the number of unique names (11355) and emails (11980) do not match - there may be individuals duplicated in the database. If we assume different individuals have identical names and go by email as the reference point for identifying duplicated individuals, we'd only have 20 duplicated individuals in our database. That's pretty small, so for simplicity we stick with 'object_id' (user id) as the reference point for looking up each individual's logins.\n",
    "- Data spans 2012-2014.\n",
    "- Majority of users have < 50 logins. There is also a small but significant cluster of users who are clearly active, adopted users w/ > 100 logins."
   ]
  },
  {
   "cell_type": "markdown",
   "metadata": {},
   "source": [
    "# 2. Identify & examine adopted users"
   ]
  },
  {
   "cell_type": "markdown",
   "metadata": {},
   "source": [
    "#### Grab each user's logins"
   ]
  },
  {
   "cell_type": "code",
   "execution_count": 195,
   "metadata": {},
   "outputs": [],
   "source": [
    "user_timestamps = [] # list of arrays, where each array is a user's logins\n",
    "for idx, row in df_users.iterrows():\n",
    "    user_id = row['object_id']\n",
    "    timestamps = df_engage[df_engage['user_id']==user_id]['time_stamp']\n",
    "    t = [i for i in timestamps]\n",
    "    user_timestamps.append(t)"
   ]
  },
  {
   "cell_type": "markdown",
   "metadata": {},
   "source": [
    "#### Define function to determine whether user has logged in on 3 separate days in at least one 7-day period\n",
    "\n",
    "This is predicated on calculating time elapsed between each login. In the case that multiple logins occur on the same day, which might confound this analysis, we remove these \"duplicate\" logins."
   ]
  },
  {
   "cell_type": "code",
   "execution_count": 196,
   "metadata": {},
   "outputs": [],
   "source": [
    "def adopted(x): # x = list of user's logins ('Timestamp' data type)\n",
    "    if len(x) < 3:\n",
    "        return 0\n",
    "    else:\n",
    "        x.sort()  \n",
    "        y = [x[i+1] - x[i] for i in range(len(x)-2)] # amount of days between logins\n",
    "        y = [i for i in y if i > np.timedelta64(0, 'ns')] # delete extra logins occurring on same day\n",
    "        z = [1 for i in range(len(y)-2) if y[i] + y[i+1] + y[i+2] <= timedelta(days=7)]\n",
    "        # condition to check if there`s a 1 in x, return 1 if true\n",
    "        if 1 in z:\n",
    "            return 1\n",
    "        else:\n",
    "            return 0"
   ]
  },
  {
   "cell_type": "markdown",
   "metadata": {},
   "source": [
    "####  Identify adopted users\n",
    "\n",
    "Adopted user is user who has logged into the product on three separate days in at least one seven-day period."
   ]
  },
  {
   "cell_type": "code",
   "execution_count": 232,
   "metadata": {},
   "outputs": [],
   "source": [
    "adopt_total = []\n",
    "for user in user_timestamps:\n",
    "        adopt_total.append(adopted(user))\n",
    "\n",
    "df_users['adopted'] = adopt_total"
   ]
  },
  {
   "cell_type": "code",
   "execution_count": 233,
   "metadata": {},
   "outputs": [
    {
     "name": "stdout",
     "output_type": "stream",
     "text": [
      "Number of adopted users:  1322\n",
      "Fraction adopted users:  0.11016666666666666\n"
     ]
    }
   ],
   "source": [
    "print(\"Number of adopted users: \", sum(adopt_total))\n",
    "print(\"Fraction adopted users: \", sum(adopt_total)/len(adopt_total))"
   ]
  },
  {
   "cell_type": "markdown",
   "metadata": {},
   "source": [
    "11% of customers are adopted users. That means many users who aren't adopted, which will definitely be valuable for the company to target."
   ]
  },
  {
   "cell_type": "markdown",
   "metadata": {},
   "source": [
    "# 3. Examine features"
   ]
  },
  {
   "cell_type": "markdown",
   "metadata": {},
   "source": [
    "#### Make dataframe of features, dropping irrelevant info such as name, email, etc."
   ]
  },
  {
   "cell_type": "code",
   "execution_count": 289,
   "metadata": {},
   "outputs": [],
   "source": [
    "df_features = pd.DataFrame.copy(df_users)"
   ]
  },
  {
   "cell_type": "code",
   "execution_count": 236,
   "metadata": {},
   "outputs": [
    {
     "data": {
      "text/html": [
       "<div>\n",
       "<style scoped>\n",
       "    .dataframe tbody tr th:only-of-type {\n",
       "        vertical-align: middle;\n",
       "    }\n",
       "\n",
       "    .dataframe tbody tr th {\n",
       "        vertical-align: top;\n",
       "    }\n",
       "\n",
       "    .dataframe thead th {\n",
       "        text-align: right;\n",
       "    }\n",
       "</style>\n",
       "<table border=\"1\" class=\"dataframe\">\n",
       "  <thead>\n",
       "    <tr style=\"text-align: right;\">\n",
       "      <th></th>\n",
       "      <th>creation_source</th>\n",
       "      <th>opted_in_to_mailing_list</th>\n",
       "      <th>enabled_for_marketing_drip</th>\n",
       "      <th>org_id</th>\n",
       "      <th>adopted</th>\n",
       "    </tr>\n",
       "  </thead>\n",
       "  <tbody>\n",
       "    <tr>\n",
       "      <th>0</th>\n",
       "      <td>GUEST_INVITE</td>\n",
       "      <td>1</td>\n",
       "      <td>0</td>\n",
       "      <td>11</td>\n",
       "      <td>0</td>\n",
       "    </tr>\n",
       "    <tr>\n",
       "      <th>1</th>\n",
       "      <td>ORG_INVITE</td>\n",
       "      <td>0</td>\n",
       "      <td>0</td>\n",
       "      <td>1</td>\n",
       "      <td>0</td>\n",
       "    </tr>\n",
       "    <tr>\n",
       "      <th>2</th>\n",
       "      <td>ORG_INVITE</td>\n",
       "      <td>0</td>\n",
       "      <td>0</td>\n",
       "      <td>94</td>\n",
       "      <td>0</td>\n",
       "    </tr>\n",
       "    <tr>\n",
       "      <th>3</th>\n",
       "      <td>GUEST_INVITE</td>\n",
       "      <td>0</td>\n",
       "      <td>0</td>\n",
       "      <td>1</td>\n",
       "      <td>0</td>\n",
       "    </tr>\n",
       "    <tr>\n",
       "      <th>4</th>\n",
       "      <td>GUEST_INVITE</td>\n",
       "      <td>0</td>\n",
       "      <td>0</td>\n",
       "      <td>193</td>\n",
       "      <td>0</td>\n",
       "    </tr>\n",
       "  </tbody>\n",
       "</table>\n",
       "</div>"
      ],
      "text/plain": [
       "  creation_source  opted_in_to_mailing_list  enabled_for_marketing_drip  \\\n",
       "0    GUEST_INVITE                         1                           0   \n",
       "1      ORG_INVITE                         0                           0   \n",
       "2      ORG_INVITE                         0                           0   \n",
       "3    GUEST_INVITE                         0                           0   \n",
       "4    GUEST_INVITE                         0                           0   \n",
       "\n",
       "   org_id  adopted  \n",
       "0      11        0  \n",
       "1       1        0  \n",
       "2      94        0  \n",
       "3       1        0  \n",
       "4     193        0  "
      ]
     },
     "execution_count": 236,
     "metadata": {},
     "output_type": "execute_result"
    }
   ],
   "source": [
    "df_features = pd.DataFrame.copy(df_users)\n",
    "df_features = df_features.drop(['name', 'email', 'object_id', 'creation_time', \n",
    "                                'last_session_creation_time', 'invited_by_user_id'], axis=1)\n",
    "df_features.head()"
   ]
  },
  {
   "cell_type": "markdown",
   "metadata": {},
   "source": [
    "#### Convert features to numeric\n",
    "\n",
    "Only one we have to convert is 'creation_source'."
   ]
  },
  {
   "cell_type": "code",
   "execution_count": 239,
   "metadata": {},
   "outputs": [
    {
     "name": "stdout",
     "output_type": "stream",
     "text": [
      "Unique creation sources:  ['GUEST_INVITE' 'ORG_INVITE' 'SIGNUP' 'PERSONAL_PROJECTS'\n",
      " 'SIGNUP_GOOGLE_AUTH']\n"
     ]
    }
   ],
   "source": [
    "print('Unique creation sources: ', df_features['creation_source'].unique())"
   ]
  },
  {
   "cell_type": "markdown",
   "metadata": {},
   "source": [
    "Convert:\n",
    "- 'GUEST_INVITE' = 0\n",
    "- 'ORG_INVITE' = 1\n",
    "- 'SIGNUP' = 2\n",
    "- 'PERSONAL_PROJECTS' = 3\n",
    "- 'SIGNUP_GOOGLE_AUTH' = 4"
   ]
  },
  {
   "cell_type": "code",
   "execution_count": 241,
   "metadata": {},
   "outputs": [],
   "source": [
    "creation = {'GUEST_INVITE':0,\n",
    "            'ORG_INVITE':1,\n",
    "            'SIGNUP':2,\n",
    "            'PERSONAL_PROJECTS':3,\n",
    "            'SIGNUP_GOOGLE_AUTH':4}\n",
    "df_features['creation_source'] = df_features['creation_source'].map(lambda i: creation[i])"
   ]
  },
  {
   "cell_type": "markdown",
   "metadata": {},
   "source": [
    "#### Examine distribution of features"
   ]
  },
  {
   "cell_type": "code",
   "execution_count": 243,
   "metadata": {},
   "outputs": [
    {
     "data": {
      "image/png": "[encoded data removed]",
      "text/plain": [
       "<matplotlib.figure.Figure at 0x1b969670>"
      ]
     },
     "metadata": {},
     "output_type": "display_data"
    }
   ],
   "source": [
    "df_features.hist(sharex=False, sharey=False, xlabelsize=1, figsize=(13,5));"
   ]
  },
  {
   "cell_type": "markdown",
   "metadata": {},
   "source": [
    "None of the features have a continuous normal distribution."
   ]
  },
  {
   "cell_type": "markdown",
   "metadata": {},
   "source": [
    "#### Scale features\n",
    "\n",
    "We're choosing between <b>StandardScaler</b> and <b>MinMaxScaler</b>. Mix-max more appropriate for data that aren't normally distributed. From above, we can see that's the case. So we'll use [MinMaxScaler](http://scikit-learn.org/stable/modules/generated/sklearn.preprocessing.MinMaxScaler.html)."
   ]
  },
  {
   "cell_type": "code",
   "execution_count": 245,
   "metadata": {},
   "outputs": [],
   "source": [
    "from sklearn.preprocessing import MinMaxScaler\n",
    "\n",
    "x = df_features.drop('adopted', axis=1)\n",
    "y = df_users['adopted']\n",
    "\n",
    "scaler = MinMaxScaler()\n",
    "scaler.fit(x)\n",
    "x = scaler.fit_transform(x)"
   ]
  },
  {
   "cell_type": "code",
   "execution_count": 251,
   "metadata": {},
   "outputs": [
    {
     "data": {
      "text/html": [
       "<div>\n",
       "<style scoped>\n",
       "    .dataframe tbody tr th:only-of-type {\n",
       "        vertical-align: middle;\n",
       "    }\n",
       "\n",
       "    .dataframe tbody tr th {\n",
       "        vertical-align: top;\n",
       "    }\n",
       "\n",
       "    .dataframe thead th {\n",
       "        text-align: right;\n",
       "    }\n",
       "</style>\n",
       "<table border=\"1\" class=\"dataframe\">\n",
       "  <thead>\n",
       "    <tr style=\"text-align: right;\">\n",
       "      <th></th>\n",
       "      <th>0</th>\n",
       "      <th>1</th>\n",
       "      <th>2</th>\n",
       "      <th>3</th>\n",
       "    </tr>\n",
       "  </thead>\n",
       "  <tbody>\n",
       "    <tr>\n",
       "      <th>0</th>\n",
       "      <td>0.00</td>\n",
       "      <td>1.0</td>\n",
       "      <td>0.0</td>\n",
       "      <td>0.026442</td>\n",
       "    </tr>\n",
       "    <tr>\n",
       "      <th>1</th>\n",
       "      <td>0.25</td>\n",
       "      <td>0.0</td>\n",
       "      <td>0.0</td>\n",
       "      <td>0.002404</td>\n",
       "    </tr>\n",
       "    <tr>\n",
       "      <th>2</th>\n",
       "      <td>0.25</td>\n",
       "      <td>0.0</td>\n",
       "      <td>0.0</td>\n",
       "      <td>0.225962</td>\n",
       "    </tr>\n",
       "    <tr>\n",
       "      <th>3</th>\n",
       "      <td>0.00</td>\n",
       "      <td>0.0</td>\n",
       "      <td>0.0</td>\n",
       "      <td>0.002404</td>\n",
       "    </tr>\n",
       "    <tr>\n",
       "      <th>4</th>\n",
       "      <td>0.00</td>\n",
       "      <td>0.0</td>\n",
       "      <td>0.0</td>\n",
       "      <td>0.463942</td>\n",
       "    </tr>\n",
       "  </tbody>\n",
       "</table>\n",
       "</div>"
      ],
      "text/plain": [
       "      0    1    2         3\n",
       "0  0.00  1.0  0.0  0.026442\n",
       "1  0.25  0.0  0.0  0.002404\n",
       "2  0.25  0.0  0.0  0.225962\n",
       "3  0.00  0.0  0.0  0.002404\n",
       "4  0.00  0.0  0.0  0.463942"
      ]
     },
     "execution_count": 251,
     "metadata": {},
     "output_type": "execute_result"
    }
   ],
   "source": [
    "# Temporarily put into dataframe to easily visualize how features have been converted\n",
    "pd.DataFrame(x).head()"
   ]
  },
  {
   "cell_type": "markdown",
   "metadata": {},
   "source": [
    "#### Correlation matrix of features\n",
    "\n",
    "To examine whether there is correlation among the features."
   ]
  },
  {
   "cell_type": "code",
   "execution_count": 252,
   "metadata": {},
   "outputs": [
    {
     "data": {
      "image/png": "[encoded data removed]",
      "text/plain": [
       "<matplotlib.figure.Figure at 0x1a759870>"
      ]
     },
     "metadata": {},
     "output_type": "display_data"
    }
   ],
   "source": [
    "sns.heatmap(df_features.corr(), cmap=\"PiYG\");"
   ]
  },
  {
   "cell_type": "markdown",
   "metadata": {},
   "source": [
    "<i>'Enabled_for_marketing_drop'</i> and <i>'opted_in_to_mailing_list'</i> appear highly correlated. We'll keep this in mind if we need to drop features to improve our model, since intercorrelated features may hinder model performance."
   ]
  },
  {
   "cell_type": "markdown",
   "metadata": {},
   "source": [
    "# 4. Test models\n",
    "\n",
    "We test several models, narrow down to one, then tune parameters."
   ]
  },
  {
   "cell_type": "markdown",
   "metadata": {},
   "source": [
    "#### Split features into train/test sets."
   ]
  },
  {
   "cell_type": "code",
   "execution_count": 254,
   "metadata": {},
   "outputs": [],
   "source": [
    "from sklearn.model_selection import train_test_split\n",
    "\n",
    "x_train, x_test, y_train, y_test = train_test_split(x, y, test_size=0.3, random_state=99)"
   ]
  },
  {
   "cell_type": "markdown",
   "metadata": {},
   "source": [
    "#### Test multiple ML approaches at once."
   ]
  },
  {
   "cell_type": "code",
   "execution_count": 261,
   "metadata": {},
   "outputs": [
    {
     "name": "stdout",
     "output_type": "stream",
     "text": [
      "LR: 0.566996 (0.034307)\n",
      "KN: 0.543460 (0.037450)\n",
      "RF: 0.521580 (0.045219)\n",
      "B: 0.559270 (0.037503)\n"
     ]
    }
   ],
   "source": [
    "from sklearn.model_selection import KFold\n",
    "from sklearn.model_selection import cross_val_score\n",
    "from sklearn.model_selection import GridSearchCV\n",
    "\n",
    "from sklearn.linear_model import LogisticRegression\n",
    "from sklearn.neighbors import KNeighborsClassifier\n",
    "from sklearn.ensemble import RandomForestClassifier\n",
    "from sklearn.naive_bayes import MultinomialNB\n",
    "\n",
    "#from sklearn.metrics import classification_report\n",
    "#from sklearn.metrics import confusion_matrix\n",
    "#from sklearn.metrics import accuracy_score\n",
    "#from sklearn.pipeline import Pipeline\n",
    "\n",
    "\n",
    "from sklearn.ensemble import RandomForestClassifier\n",
    "\n",
    "num_folds=10\n",
    "scoring='roc_auc'\n",
    "\n",
    "models=[]\n",
    "models.append(('LR', LogisticRegression()))\n",
    "models.append(('KN', KNeighborsClassifier()))\n",
    "models.append(('RF', RandomForestClassifier()))\n",
    "models.append(('B', MultinomialNB()))\n",
    "\n",
    "results = []\n",
    "names = []\n",
    "\n",
    "for name, model in models:\n",
    "    kfold = KFold(n_splits=num_folds, random_state=99)\n",
    "    cv_results = cross_val_score(model, x_train, y_train, cv=kfold, scoring=scoring)\n",
    "    results.append(cv_results)\n",
    "    names.append(name)\n",
    "    print('%s: %f (%f)' % (name, cv_results.mean(), cv_results.std()))"
   ]
  },
  {
   "cell_type": "markdown",
   "metadata": {},
   "source": [
    "We pick logistic regression, since it has the best ROC-AUC."
   ]
  },
  {
   "cell_type": "markdown",
   "metadata": {},
   "source": [
    "#### Tune model\n",
    "\n",
    "Tune the model to see if we can obtain further improvements."
   ]
  },
  {
   "cell_type": "code",
   "execution_count": 264,
   "metadata": {},
   "outputs": [
    {
     "name": "stdout",
     "output_type": "stream",
     "text": [
      "Confusion matrix: \n",
      "[[3209    0]\n",
      " [ 391    0]]\n"
     ]
    }
   ],
   "source": [
    "from sklearn.metrics import confusion_matrix\n",
    "\n",
    "# Re-instantiate model\n",
    "model = LogisticRegression() # instantiate logreg w/ l1 regularization\n",
    "model.fit(x_train, y_train)\n",
    "y_pred = model.predict(x_test)\n",
    "\n",
    "# Confusion matrix\n",
    "print('Confusion matrix: ')\n",
    "print(confusion_matrix(y_test, y_pred))"
   ]
  },
  {
   "cell_type": "markdown",
   "metadata": {},
   "source": [
    "- The performance is fantastic at not having false positives (non-adopted users falsed identified as adopted). That means no un-adopted user slips through the cracks if Relax Inc. decides to target non-adopted users w/ specific ads, etc. for retaining them.\n",
    "- However, we have 391 false negatives - adopted users misclassified as non-adopters. This might not be as big of an issue though, depending on Relax's strategy of targeting non-adopted users. Maybe they will continue to be adopters, even if they are targeted w/ non-adopter ads, for instance. This would mean FN's aren't costly.\n",
    "\n",
    "Regardless, let's see if we can get better performance w/ [Lasso regularization](https://towardsdatascience.com/l1-and-l2-regularization-methods-ce25e7fc831c)."
   ]
  },
  {
   "cell_type": "code",
   "execution_count": 265,
   "metadata": {},
   "outputs": [
    {
     "name": "stdout",
     "output_type": "stream",
     "text": [
      "Confusion matrix: \n",
      "[[3209    0]\n",
      " [ 391    0]]\n"
     ]
    }
   ],
   "source": [
    "model = LogisticRegression(penalty='l1') # instantiate logreg w/ l1 regularization\n",
    "model.fit(x_train, y_train)\n",
    "y_pred = model.predict(x_test)\n",
    "\n",
    "# Confusion matrix\n",
    "print('Confusion matrix: ')\n",
    "print(confusion_matrix(y_test, y_pred))"
   ]
  },
  {
   "cell_type": "markdown",
   "metadata": {},
   "source": [
    "It's actually the same in this case. Perhaps just for this train/test split, but the difference seems likely to be small."
   ]
  },
  {
   "cell_type": "markdown",
   "metadata": {},
   "source": [
    "# 5. Examine feature importance"
   ]
  },
  {
   "cell_type": "markdown",
   "metadata": {},
   "source": [
    "#### Plot relative importance of features"
   ]
  },
  {
   "cell_type": "code",
   "execution_count": 286,
   "metadata": {},
   "outputs": [
    {
     "data": {
      "image/png": "[encoded data removed]",
      "text/plain": [
       "<matplotlib.figure.Figure at 0x1cdb7c90>"
      ]
     },
     "metadata": {},
     "output_type": "display_data"
    }
   ],
   "source": [
    "features = df_features.columns[:-1].tolist()\n",
    "coefs = model.coef_[0]\n",
    "\n",
    "plt.figure(figsize=(10,4));\n",
    "plt.bar(features, coefs);\n",
    "plt.title('Relative importance of features');"
   ]
  },
  {
   "cell_type": "markdown",
   "metadata": {},
   "source": [
    "<b>'creation_source'</b> and <b>'org_id'</b> seem to be most important. It's difficult to make a specific recommendation since we only know that they're heavily weighted. So let's examine them more closely."
   ]
  },
  {
   "cell_type": "code",
   "execution_count": 305,
   "metadata": {},
   "outputs": [
    {
     "data": {
      "image/png": "[encoded data removed]",
      "text/plain": [
       "<matplotlib.figure.Figure at 0x1e0522d0>"
      ]
     },
     "metadata": {},
     "output_type": "display_data"
    }
   ],
   "source": [
    "names = ['guest_invite', 'org_invite', 'signup', 'personal_projects', 'signup_google_auth']\n",
    "count = df_users.groupby('creation_source').size().tolist()\n",
    "\n",
    "plt.figure(figsize=(7,4));\n",
    "plt.bar(names, count);"
   ]
  },
  {
   "cell_type": "markdown",
   "metadata": {},
   "source": [
    "Most common creation source seems to be 'org_invite'. This makes sense, since 'org_id' is our other feature w/ relatively large weight. Let's examine 'org_id' next."
   ]
  },
  {
   "cell_type": "code",
   "execution_count": 347,
   "metadata": {},
   "outputs": [
    {
     "data": {
      "image/png": "[encoded data removed]",
      "text/plain": [
       "<matplotlib.figure.Figure at 0x215f9f50>"
      ]
     },
     "metadata": {},
     "output_type": "display_data"
    }
   ],
   "source": [
    "count = df_users.groupby('org_id').size()\n",
    "plt.figure(figsize=(17,4))\n",
    "plt.hist(count);\n",
    "plt.xlabel('# users per organization');\n",
    "plt.ylabel('# of organizations');"
   ]
  },
  {
   "cell_type": "markdown",
   "metadata": {},
   "source": [
    "Majority of organizations (group of users, by 'org_id') seem to have < 70 members. However, there are a few large organizations with many more members. Let's examine them more closely."
   ]
  },
  {
   "cell_type": "code",
   "execution_count": 350,
   "metadata": {},
   "outputs": [
    {
     "name": "stdout",
     "output_type": "stream",
     "text": [
      "Total organizations w/ > 70 users:  18\n"
     ]
    },
    {
     "data": {
      "image/png": "[encoded data removed]",
      "text/plain": [
       "<matplotlib.figure.Figure at 0x1fc335b0>"
      ]
     },
     "metadata": {},
     "output_type": "display_data"
    }
   ],
   "source": [
    "test = pd.DataFrame({'count':count.tolist(), 'org_id':count.index})\n",
    "test = test[test['count'] > 70]['count']\n",
    "plt.hist(test);\n",
    "plt.xlabel('org_id');\n",
    "plt.ylabel('freq of referral');\n",
    "plt.title('Organizations w/ > 70 users');\n",
    "print('Total organizations w/ > 70 users: ', len(test))"
   ]
  },
  {
   "cell_type": "markdown",
   "metadata": {},
   "source": [
    "There are 18 organizations w/ > 70 users. These organizations might be worth targeting to get more even users."
   ]
  },
  {
   "cell_type": "markdown",
   "metadata": {},
   "source": [
    "# 6. Conclusion\n",
    "\n",
    "Our most important features were 'org_id' and 'creation_source'. It seems that many of Relax Inc's users are influenced to adopt by virtue of being part of an organization or how they were invited.\n",
    "\n",
    "Upon closer examination of these features, whether the user was prompted to adopt due to being part of an organization is probably the most important factor in determining whether they adopt. There are ~18 organizations with > 70 users. \n",
    "\n",
    "<b>Recommendation</b>: To increase number of adopters, it may be more fruitful to target organizations rather than individual customers - in particular, focusing on encouraging organizations to enroll large numbers of their members. Individual-level factors such as how users signed up (not including via an organization) and whether they were on a mailing list are not nearly as important as whether they were part of an organization."
   ]
  },
  {
   "cell_type": "code",
   "execution_count": null,
   "metadata": {},
   "outputs": [],
   "source": []
  }
 ],
 "metadata": {
  "kernelspec": {
   "display_name": "Python 3",
   "language": "python",
   "name": "python3"
  },
  "language_info": {
   "codemirror_mode": {
    "name": "ipython",
    "version": 3
   },
   "file_extension": ".py",
   "mimetype": "text/x-python",
   "name": "python",
   "nbconvert_exporter": "python",
   "pygments_lexer": "ipython3",
   "version": "3.6.5"
  }
 },
 "nbformat": 4,
 "nbformat_minor": 2
}
